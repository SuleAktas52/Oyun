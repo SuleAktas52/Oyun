{
  "nbformat": 4,
  "nbformat_minor": 0,
  "metadata": {
    "colab": {
      "provenance": [],
      "authorship_tag": "ABX9TyOjDWmqAUNeL3BUn4DF/rIr",
      "include_colab_link": true
    },
    "kernelspec": {
      "name": "python3",
      "display_name": "Python 3"
    },
    "language_info": {
      "name": "python"
    }
  },
  "cells": [
    {
      "cell_type": "markdown",
      "metadata": {
        "id": "view-in-github",
        "colab_type": "text"
      },
      "source": [
        "<a href=\"https://colab.research.google.com/github/SuleAktas52/Oyun/blob/main/Untitled5.ipynb\" target=\"_parent\"><img src=\"https://colab.research.google.com/assets/colab-badge.svg\" alt=\"Open In Colab\"/></a>"
      ]
    },
    {
      "cell_type": "code",
      "execution_count": 1,
      "metadata": {
        "colab": {
          "base_uri": "https://localhost:8080/"
        },
        "id": "1psdicKpN-Gg",
        "outputId": "0e0cbc11-645f-4316-fd40-6a1775c9c0ee"
      },
      "outputs": [
        {
          "output_type": "stream",
          "name": "stdout",
          "text": [
            "How many rounds do you want to play ?\n",
            "5\n",
            "\n",
            "Player 1:  scissors\n",
            "Player 2:  scissors\n",
            "Tie! Both players chose the same action.\n",
            "Player 1 Score:  0\n",
            "Player 2 Score:  0\n",
            "\n",
            "Player 1:  rock\n",
            "Player 2:  rock\n",
            "Tie! Both players chose the same action.\n",
            "Player 1 Score:  0\n",
            "Player 2 Score:  0\n",
            "\n",
            "Player 1:  scissors\n",
            "Player 2:  scissors\n",
            "Tie! Both players chose the same action.\n",
            "Player 1 Score:  0\n",
            "Player 2 Score:  0\n",
            "\n",
            "Player 1:  scissors\n",
            "Player 2:  rock\n",
            "The winner is: Player 2\n",
            "Player 1 Score:  0\n",
            "Player 2 Score:  1\n",
            "\n",
            "Player 1:  paper\n",
            "Player 2:  scissors\n",
            "The winner is: Player 2\n",
            "Player 1 Score:  0\n",
            "Player 2 Score:  2\n",
            "\n",
            "Player 1:  paper\n",
            "Player 2:  scissors\n",
            "The winner is: Player 2\n",
            "Player 1 Score:  0\n",
            "Player 2 Score:  3\n",
            "\n"
          ]
        }
      ],
      "source": [
        "#Collect all the components of your program to run it in a for loop\n",
        "#Import the random library\n",
        "\n",
        "import random\n",
        "\n",
        "#Add the code to create a list containing the three actions of the game.\n",
        "\n",
        "liste=['rock', 'paper', 'scissors']\n",
        "\n",
        "#Add the code to set the scores of players to 0\n",
        "\n",
        "player1_score = 0\n",
        "player2_score = 0\n",
        "\n",
        "#Add the code to ask the user how many rounds they want to play\n",
        "\n",
        "print(\"How many rounds do you want to play ?\")\n",
        "gameround= int(input())\n",
        "print()\n",
        "\n",
        "#Write a for loop and put the game inside\n",
        "\n",
        "i=0\n",
        "while i <= gameround:\n",
        "\n",
        "  #Add the code to select a random action for each player\n",
        "\n",
        "  a=random.randint(0,2)\n",
        "  player1= liste[a]\n",
        "  b=random.randint(0,2)\n",
        "  player2= liste[b]\n",
        "\n",
        "  #Add the code to print the players choices\n",
        "\n",
        "  print(\"Player 1: \", player1)\n",
        "  print(\"Player 2: \", player2)\n",
        "\n",
        "  #Add the tie condition\n",
        "\n",
        "  if player1 == player2 : \n",
        "     print(\"Tie! Both players chose the same action.\" )\n",
        "\n",
        "  #Add the remaining condition\n",
        "\n",
        "  elif player1 == 'paper' and player2 == 'rock':\n",
        "       print(\"The winner is: Player 1\")\n",
        "       player1_score+=1\n",
        "\n",
        "  elif player1 == 'paper' and player2 == 'scissors':\n",
        "       print(\"The winner is: Player 2\")\n",
        "       player2_score+=1\n",
        "\n",
        "  elif player1 == 'scissors' and player2 == 'rock' :\n",
        "       print(\"The winner is: Player 2\") \n",
        "       player2_score+=1 \n",
        "\n",
        "  elif player1 == 'scissors' and player2 == 'paper' :\n",
        "       print(\"The winner is: Player 1\") \n",
        "       player1_score+=1 \n",
        "\n",
        "  elif player1 == 'rock' and player2 == 'scissors' :\n",
        "       print(\"The winner is: Player 1\") \n",
        "       player1_score+=1\n",
        "\n",
        "  elif player1 == 'rock' and player2 == 'paper' :\n",
        "       print(\"The winner is: Player 2\") \n",
        "       player2_score+=1\n",
        "  i+=1\n",
        "\n",
        "  #print the score\n",
        "\n",
        "  print(\"Player 1 Score: \" , player1_score)\n",
        "  print(\"Player 2 Score: \" , player2_score)\n",
        "  print()\n"
      ]
    }
  ]
}